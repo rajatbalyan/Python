{
 "cells": [
  {
   "cell_type": "code",
   "execution_count": null,
   "metadata": {},
   "outputs": [],
   "source": [
    "imv tf\n",
    "\n",
    "a =tf.constant(5)\n",
    "b =tf.constant(3)\n",
    "c= tf.add(a,b)\n",
    "\n",
    "print(c)"
   ]
  }
 ],
 "metadata": {
  "language_info": {
   "name": "python"
  }
 },
 "nbformat": 4,
 "nbformat_minor": 2
}
